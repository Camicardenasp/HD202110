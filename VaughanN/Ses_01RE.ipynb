{
 "cells": [
  {
   "cell_type": "markdown",
   "metadata": {},
   "source": [
    "# [Herramientas digitales — Módulo 1: Texto digital (2021100)](HD_Texto_Digital.ipynb)\n",
    "\n",
    "## [Maestría en Humanidades Digitales, Universidad de los Andes](https://posgradosfacartes.uniandes.edu.co/programas/humanidades-digitales/)\n",
    "\n",
    "#### [Nicolás Vaughan](https://posgradosfacartes.uniandes.edu.co/miembro/nicolas-vaughan-caro/)\n",
    "\n",
    "## Sesión 1: Introducción a las Expresiones regulares (RE, RegEx)"
   ]
  },
  {
   "cell_type": "markdown",
   "metadata": {},
   "source": [
    "# 1. Expresiones regulares (*regex* o RE)\n",
    "\n",
    "- Bajen y tengan a mano la siguiente guía: https://raw.githubusercontent.com/nivaca/HD202110/main/VaughanN/otros/regex.pdf\n",
    "\n",
    "***"
   ]
  },
  {
   "cell_type": "markdown",
   "metadata": {},
   "source": [
    "# 2. Regex para limpiar archivos CVS\n",
    "\n",
    "- Para buscar y reemplazar usando **RE** en VSCode (`Ctrl+h` o `Cmd+h`), debemos seleccionar la opción apropiada en la ventana de búsqueda:\n",
    "![vscode find](https://raw.githubusercontent.com/nivaca/HD2020-20/master/img/vscodefind.png)\n",
    "\n",
    "- Guarden este archivo en su computador y ábranlo en **VSCode** (click derecho sobre el link, \"Guardar link como...\"): https://raw.githubusercontent.com/nivaca/HD202110/main/VaughanN/otros/covid.csv\n",
    "\n",
    "- Revisen abajo la codificación (*encoding*) y el tipo de terminación de línea:\n",
    "![encoding](https://raw.githubusercontent.com/nivaca/HD202021/main/VaughanN/img/encoding.png)\n",
    "\n",
    "- En este caso, esto significa que el archivo fue abierto como UTF8 y con saltos de línea de Windows.\n",
    "\n",
    "- Hay que arreglarlo, antes que nada:\n",
    "  1. Hagan click en `UTF8` en la barra de información de abajo.\n",
    "  2. Ahora, arriba, hagan click en `Reopen with Encoding`:\n",
    "  ![fix01](https://raw.githubusercontent.com/nivaca/HD202021/main/VaughanN/img/fix01.png)\n",
    "  \n",
    "  <br/>\n",
    "  \n",
    "  3. Seleccionen `Western (Windows 1252)`:\n",
    "  ![fix02](https://raw.githubusercontent.com/nivaca/HD202021/main/VaughanN/img/fix02.png)\n",
    "  \n",
    "  <br/>\n",
    "  \n",
    "  4. Ahora hagan click en `Windows 1252` en la barra de información de abajo:\n",
    "  ![fix03](https://raw.githubusercontent.com/nivaca/HD202021/main/VaughanN/img/fix03.png)\n",
    "  \n",
    "  <br/>\n",
    "  \n",
    "  5. Ahora, arriba, hagan click en `Save with Encoding`:\n",
    "  ![fix04](https://raw.githubusercontent.com/nivaca/HD202021/main/VaughanN/img/fix04.png)\n",
    "  \n",
    "  <br/>\n",
    "  \n",
    "  6. Seleccionen `UTF8`:\n",
    "  ![fix05](https://raw.githubusercontent.com/nivaca/HD202021/main/VaughanN/img/fix05.png)\n",
    "  \n",
    "  <br/>\n",
    "  \n",
    "  7. Ahora hagan click en `CRLF` en la barra de información de abajo:\n",
    "  ![fix06](https://raw.githubusercontent.com/nivaca/HD202021/main/VaughanN/img/fix06.png)\n",
    "  \n",
    "  <br/>\n",
    "  \n",
    "  8. Seleccionen `LF`:\n",
    "  ![fix07](https://raw.githubusercontent.com/nivaca/HD202021/main/VaughanN/img/fix07.png)\n",
    "  \n",
    "  \n",
    "## Hagan las siguientes búsquedas ⇒ reemplazos:\n",
    "- `^.*Recuperado` ⇒  &nbsp;&nbsp;&nbsp;(vacío)\n",
    "- `^(?:(?!Fallecido).)*$` ⇒  &nbsp;&nbsp;&nbsp;(vacío)\n",
    "\n",
    "## ¿Cómo funcionan? Hagan pruebas aquí: https://regex101.com/r/I1h4l3/1\n",
    "\n",
    "## ¿Cómo podemos lograr lo siguiente?\n",
    "- limpiar el texto para que solo queden: Fechas, Horas, Estado\n",
    "- limpiar el texto para que solo queden: Localidad, Estado"
   ]
  },
  {
   "cell_type": "markdown",
   "metadata": {},
   "source": [
    "---"
   ]
  },
  {
   "cell_type": "markdown",
   "metadata": {},
   "source": [
    "<!--\n",
    "# 3. Tarea: Limpiar un texto extraído de un PDF\n",
    "\n",
    "- El archivo es: https://raw.githubusercontent.com/nivaca/HD202110/main/VaughanN/otros/perifrasis20189_18_06.txt\n",
    "\n",
    "(Por si acaso, el original está aquí: https://revistas.uniandes.edu.co/doi/full/10.25025/perifrasis20189.18.06)\n",
    "\n",
    "## Deben hacer lo siguiente *usando solamente Regex*:\n",
    "\n",
    "- Insertar tres (3) líneas en blanco entre cada párrafo del texto.\n",
    "\n",
    "- Eliminar la información redundante (encabezado y pie de página), pero deben conservar el número de página y ponerlo entre llaves: `{98}`\n",
    "\n",
    "- Añadir un `#` al principio de cada título de sección (noten el espacio en que le sigue), por ejemplo: \n",
    "> \\# 1. Esta es mi primera sección del artículo\n",
    "\n",
    "- Unan las palabras que han sido separadas por guiones, por ejemplo:\n",
    "```\n",
    "pala- \n",
    "bra\n",
    "```\n",
    "debe quedar: `palabra`\n",
    "\n",
    "- Reemplacen `<< ... >>` por comillas tipográficas dobles: `“...”` (ojo, no estas: `\"...\"`)\n",
    "\n",
    "- Reemplacen los tres guiones `---` por rayas: `—`.\n",
    "\n",
    "\n",
    "## Deben entregar\n",
    "1. El texto limpiado\n",
    "2. Un archivo de texto con la lista de todos los Regex (búsqueda ⇒ reemplazo) usados\n",
    "\n",
    "## Condiciones de entrega\n",
    "1. A más tardar el próximo viernes 12 de marzo a las 4:30pm\n",
    "2. A mi correo: n.vaughan@uniandes.edu.co\n",
    "3. Tema del correo: `Tarea No.1 HD [su nombre]`\n",
    "4. Los archivos también deben tener su apellido. E.g., `artículo_vaughan.txt`, `regex_vaughan.txt`\n",
    "-->"
   ]
  },
  {
   "cell_type": "code",
   "execution_count": null,
   "metadata": {},
   "outputs": [],
   "source": []
  }
 ],
 "metadata": {
  "kernelspec": {
   "display_name": "Python 3",
   "language": "python",
   "name": "python3"
  },
  "language_info": {
   "codemirror_mode": {
    "name": "ipython",
    "version": 3
   },
   "file_extension": ".py",
   "mimetype": "text/x-python",
   "name": "python",
   "nbconvert_exporter": "python",
   "pygments_lexer": "ipython3",
   "version": "3.9.1"
  }
 },
 "nbformat": 4,
 "nbformat_minor": 2
}
